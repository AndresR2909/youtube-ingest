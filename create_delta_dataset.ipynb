{
 "cells": [
  {
   "cell_type": "code",
   "execution_count": 1,
   "metadata": {},
   "outputs": [
    {
     "data": {
      "text/plain": [
       "True"
      ]
     },
     "execution_count": 1,
     "metadata": {},
     "output_type": "execute_result"
    }
   ],
   "source": [
    "import os\n",
    "import io\n",
    "import logging\n",
    "from datetime import datetime\n",
    "import azure.functions as func\n",
    "from logic.data_ingestion import DataIngestion\n",
    "from logic.blob_storage import BlobStorageManager\n",
    "\n",
    "from dotenv import load_dotenv\n",
    "load_dotenv()"
   ]
  },
  {
   "cell_type": "code",
   "execution_count": 2,
   "metadata": {},
   "outputs": [],
   "source": [
    "DELTA_DAYS = os.environ.get('DELTA_DAYS')\n",
    "DELTA_HOURS = os.environ.get('DELTA_HOURS')\n",
    "CHANNEL_LIST = os.environ.get('CHANNEL_LIST')\n",
    "SCHEDULE = os.environ.get('CRON_SCHEDULE')"
   ]
  },
  {
   "cell_type": "code",
   "execution_count": 3,
   "metadata": {},
   "outputs": [
    {
     "name": "stdout",
     "output_type": "stream",
     "text": [
      "https://www.youtube.com/@Crecetrader/videos\n",
      "https://www.youtube.com/@Crecetrader/shorts\n",
      "https://www.youtube.com/@BitcoinHoyOficial/videos\n",
      "https://www.youtube.com/@BitcoinHoyOficial/shorts\n",
      "https://www.youtube.com/@arenaalfa/videos\n",
      "https://www.youtube.com/@arenaalfa/shorts\n",
      "https://www.youtube.com/@USACRYPTONOTICIAS/videos\n",
      "https://www.youtube.com/@USACRYPTONOTICIAS/shorts\n",
      "https://www.youtube.com/@USACRYPTONOTICIAS/streams\n",
      "https://www.youtube.com/@BitcoinHoyOficial/streams\n",
      "https://www.youtube.com/@arenaalfa/streams\n",
      "https://www.youtube.com/@Crecetrader/streams\n"
     ]
    }
   ],
   "source": [
    "for x in CHANNEL_LIST.split(','):\n",
    "    print(x)"
   ]
  },
  {
   "cell_type": "code",
   "execution_count": 4,
   "metadata": {},
   "outputs": [],
   "source": [
    "data_ingestion = DataIngestion()\n",
    "bsm = BlobStorageManager()\n"
   ]
  },
  {
   "cell_type": "code",
   "execution_count": 5,
   "metadata": {},
   "outputs": [],
   "source": [
    "chanel_list = CHANNEL_LIST.split(',')"
   ]
  },
  {
   "cell_type": "code",
   "execution_count": 6,
   "metadata": {},
   "outputs": [
    {
     "data": {
      "text/plain": [
       "['https://www.youtube.com/@Crecetrader/videos',\n",
       " 'https://www.youtube.com/@Crecetrader/shorts',\n",
       " 'https://www.youtube.com/@BitcoinHoyOficial/videos',\n",
       " 'https://www.youtube.com/@BitcoinHoyOficial/shorts',\n",
       " 'https://www.youtube.com/@arenaalfa/videos',\n",
       " 'https://www.youtube.com/@arenaalfa/shorts',\n",
       " 'https://www.youtube.com/@USACRYPTONOTICIAS/videos',\n",
       " 'https://www.youtube.com/@USACRYPTONOTICIAS/shorts',\n",
       " 'https://www.youtube.com/@USACRYPTONOTICIAS/streams',\n",
       " 'https://www.youtube.com/@BitcoinHoyOficial/streams',\n",
       " 'https://www.youtube.com/@arenaalfa/streams',\n",
       " 'https://www.youtube.com/@Crecetrader/streams']"
      ]
     },
     "execution_count": 6,
     "metadata": {},
     "output_type": "execute_result"
    }
   ],
   "source": [
    "chanel_list"
   ]
  },
  {
   "cell_type": "code",
   "execution_count": 7,
   "metadata": {},
   "outputs": [
    {
     "name": "stderr",
     "output_type": "stream",
     "text": [
      "Procesando urls: 100%|██████████| 12/12 [01:32<00:00,  7.69s/it]\n"
     ]
    },
    {
     "data": {
      "text/html": [
       "<div>\n",
       "<style scoped>\n",
       "    .dataframe tbody tr th:only-of-type {\n",
       "        vertical-align: middle;\n",
       "    }\n",
       "\n",
       "    .dataframe tbody tr th {\n",
       "        vertical-align: top;\n",
       "    }\n",
       "\n",
       "    .dataframe thead th {\n",
       "        text-align: right;\n",
       "    }\n",
       "</style>\n",
       "<table border=\"1\" class=\"dataframe\">\n",
       "  <thead>\n",
       "    <tr style=\"text-align: right;\">\n",
       "      <th></th>\n",
       "      <th>chanel_name</th>\n",
       "      <th>chanel_id</th>\n",
       "      <th>chanel_url</th>\n",
       "      <th>video_id</th>\n",
       "      <th>title</th>\n",
       "      <th>url</th>\n",
       "      <th>description</th>\n",
       "      <th>duration</th>\n",
       "      <th>keywords</th>\n",
       "      <th>publish_date</th>\n",
       "      <th>relativeDateText</th>\n",
       "      <th>total_length</th>\n",
       "      <th>total_views</th>\n",
       "      <th>video_rating</th>\n",
       "      <th>caption_text_es</th>\n",
       "    </tr>\n",
       "  </thead>\n",
       "  <tbody>\n",
       "    <tr>\n",
       "      <th>0</th>\n",
       "      <td>Bolsas Hoy | Esteban Pérez</td>\n",
       "      <td>UCWcFkWDnl9z8CRTuNWWlipw</td>\n",
       "      <td>https://www.youtube.com/channel/UCWcFkWDnl9z8C...</td>\n",
       "      <td>gUVlQ46nvdM</td>\n",
       "      <td>BUSCO 20% DE RENTABILIDAD ANUAL y No INVIERTO ...</td>\n",
       "      <td>https://www.youtube.com/watch?v=gUVlQ46nvdM</td>\n",
       "      <td>MATRÍCULA ABIERTA YA PARA CRECEINVEST DESDE CE...</td>\n",
       "      <td>524</td>\n",
       "      <td>None</td>\n",
       "      <td>2025-02-17</td>\n",
       "      <td>12 hours ago</td>\n",
       "      <td>0</td>\n",
       "      <td>0</td>\n",
       "      <td>None</td>\n",
       "      <td>Saludos cordiales hoy nos vamos a tomar el caf...</td>\n",
       "    </tr>\n",
       "    <tr>\n",
       "      <th>1</th>\n",
       "      <td>Bitcoin hoy</td>\n",
       "      <td>UC4DOPLw9NRRBFW4wYjcWxiA</td>\n",
       "      <td>https://www.youtube.com/channel/UC4DOPLw9NRRBF...</td>\n",
       "      <td>D_I_LfifRoI</td>\n",
       "      <td>QUE HARÁ BITCOIN HOY 17/02/25 08:00  | ESTEBAN...</td>\n",
       "      <td>https://www.youtube.com/watch?v=D_I_LfifRoI</td>\n",
       "      <td>➡Abierta la matrícula de la edición de Marzo: ...</td>\n",
       "      <td>1283</td>\n",
       "      <td>None</td>\n",
       "      <td>2025-02-16</td>\n",
       "      <td>16 hours ago</td>\n",
       "      <td>0</td>\n",
       "      <td>0</td>\n",
       "      <td>None</td>\n",
       "      <td>Saludos cordiales iniciamos los primeros análi...</td>\n",
       "    </tr>\n",
       "    <tr>\n",
       "      <th>2</th>\n",
       "      <td>USACRYPTONOTICIAS</td>\n",
       "      <td>UCY8AYdix1el08AEFzzwS3Yg</td>\n",
       "      <td>https://www.youtube.com/channel/UCY8AYdix1el08...</td>\n",
       "      <td>DHEWt5xKKY8</td>\n",
       "      <td>ÚLTIMAS HORAS para INTENTAR SUBIDA en BITCOIN ...</td>\n",
       "      <td>https://www.youtube.com/watch?v=DHEWt5xKKY8</td>\n",
       "      <td>🍀🍀🍀 ENLACE BITGET\\nhttps://bonus.bitget.com/US...</td>\n",
       "      <td>7582</td>\n",
       "      <td>None</td>\n",
       "      <td>2025-02-17</td>\n",
       "      <td>Streamed 10 hours ago</td>\n",
       "      <td>0</td>\n",
       "      <td>0</td>\n",
       "      <td>None</td>\n",
       "      <td>bitcoin está en sus últimas horas para intenta...</td>\n",
       "    </tr>\n",
       "    <tr>\n",
       "      <th>3</th>\n",
       "      <td>USACRYPTONOTICIAS</td>\n",
       "      <td>UCY8AYdix1el08AEFzzwS3Yg</td>\n",
       "      <td>https://www.youtube.com/channel/UCY8AYdix1el08...</td>\n",
       "      <td>-ici89fmps0</td>\n",
       "      <td>48 HORAS DECISIVAS para BITCOIN y ALTCOINS | B...</td>\n",
       "      <td>https://www.youtube.com/watch?v=-ici89fmps0</td>\n",
       "      <td>🍀🍀🍀 ENLACE BITGET\\nhttps://bonus.bitget.com/US...</td>\n",
       "      <td>7222</td>\n",
       "      <td>None</td>\n",
       "      <td>2025-02-16</td>\n",
       "      <td>Streamed 1 day ago</td>\n",
       "      <td>0</td>\n",
       "      <td>0</td>\n",
       "      <td>None</td>\n",
       "      <td>Hola mis amigos Hola hola hola bienvenidos una...</td>\n",
       "    </tr>\n",
       "  </tbody>\n",
       "</table>\n",
       "</div>"
      ],
      "text/plain": [
       "                   chanel_name                 chanel_id  \\\n",
       "0  Bolsas Hoy | Esteban Pérez   UCWcFkWDnl9z8CRTuNWWlipw   \n",
       "1                  Bitcoin hoy  UC4DOPLw9NRRBFW4wYjcWxiA   \n",
       "2            USACRYPTONOTICIAS  UCY8AYdix1el08AEFzzwS3Yg   \n",
       "3            USACRYPTONOTICIAS  UCY8AYdix1el08AEFzzwS3Yg   \n",
       "\n",
       "                                          chanel_url     video_id  \\\n",
       "0  https://www.youtube.com/channel/UCWcFkWDnl9z8C...  gUVlQ46nvdM   \n",
       "1  https://www.youtube.com/channel/UC4DOPLw9NRRBF...  D_I_LfifRoI   \n",
       "2  https://www.youtube.com/channel/UCY8AYdix1el08...  DHEWt5xKKY8   \n",
       "3  https://www.youtube.com/channel/UCY8AYdix1el08...  -ici89fmps0   \n",
       "\n",
       "                                               title  \\\n",
       "0  BUSCO 20% DE RENTABILIDAD ANUAL y No INVIERTO ...   \n",
       "1  QUE HARÁ BITCOIN HOY 17/02/25 08:00  | ESTEBAN...   \n",
       "2  ÚLTIMAS HORAS para INTENTAR SUBIDA en BITCOIN ...   \n",
       "3  48 HORAS DECISIVAS para BITCOIN y ALTCOINS | B...   \n",
       "\n",
       "                                           url  \\\n",
       "0  https://www.youtube.com/watch?v=gUVlQ46nvdM   \n",
       "1  https://www.youtube.com/watch?v=D_I_LfifRoI   \n",
       "2  https://www.youtube.com/watch?v=DHEWt5xKKY8   \n",
       "3  https://www.youtube.com/watch?v=-ici89fmps0   \n",
       "\n",
       "                                         description  duration keywords  \\\n",
       "0  MATRÍCULA ABIERTA YA PARA CRECEINVEST DESDE CE...       524     None   \n",
       "1  ➡Abierta la matrícula de la edición de Marzo: ...      1283     None   \n",
       "2  🍀🍀🍀 ENLACE BITGET\\nhttps://bonus.bitget.com/US...      7582     None   \n",
       "3  🍀🍀🍀 ENLACE BITGET\\nhttps://bonus.bitget.com/US...      7222     None   \n",
       "\n",
       "  publish_date       relativeDateText  total_length  total_views video_rating  \\\n",
       "0   2025-02-17           12 hours ago             0            0         None   \n",
       "1   2025-02-16           16 hours ago             0            0         None   \n",
       "2   2025-02-17  Streamed 10 hours ago             0            0         None   \n",
       "3   2025-02-16     Streamed 1 day ago             0            0         None   \n",
       "\n",
       "                                     caption_text_es  \n",
       "0  Saludos cordiales hoy nos vamos a tomar el caf...  \n",
       "1  Saludos cordiales iniciamos los primeros análi...  \n",
       "2  bitcoin está en sus últimas horas para intenta...  \n",
       "3  Hola mis amigos Hola hola hola bienvenidos una...  "
      ]
     },
     "execution_count": 7,
     "metadata": {},
     "output_type": "execute_result"
    }
   ],
   "source": [
    "df = data_ingestion.delta_load_from_youtube_channel_by_days(chanel_list,1)\n",
    "df"
   ]
  },
  {
   "cell_type": "code",
   "execution_count": 8,
   "metadata": {},
   "outputs": [
    {
     "name": "stderr",
     "output_type": "stream",
     "text": [
      "Procesando urls:   0%|          | 0/12 [00:00<?, ?it/s]"
     ]
    },
    {
     "name": "stdout",
     "output_type": "stream",
     "text": [
      "delta_date: 2025-02-17 07:21:22.238927\n",
      "published_date: 2025-02-17 07:21:22.238927\n"
     ]
    },
    {
     "name": "stderr",
     "output_type": "stream",
     "text": [
      "Procesando urls:   8%|▊         | 1/12 [00:09<01:44,  9.54s/it]"
     ]
    },
    {
     "name": "stdout",
     "output_type": "stream",
     "text": [
      "delta_date: 2025-02-17 07:21:24.665343\n",
      "published_date: 2025-02-15 19:21:24.665343\n"
     ]
    },
    {
     "name": "stderr",
     "output_type": "stream",
     "text": [
      "Procesando urls:  17%|█▋        | 2/12 [00:12<00:56,  5.70s/it]"
     ]
    },
    {
     "name": "stdout",
     "output_type": "stream",
     "text": [
      "delta_date: 2025-02-17 07:21:27.669494\n",
      "published_date: 2024-04-23 19:21:27.669494\n"
     ]
    },
    {
     "name": "stderr",
     "output_type": "stream",
     "text": [
      "Procesando urls:  25%|██▌       | 3/12 [00:32<01:50, 12.25s/it]"
     ]
    },
    {
     "name": "stdout",
     "output_type": "stream",
     "text": [
      "delta_date: 2025-02-17 07:21:47.722510\n",
      "published_date: 2025-02-17 03:21:47.722510\n"
     ]
    },
    {
     "name": "stderr",
     "output_type": "stream",
     "text": [
      "Procesando urls:  33%|███▎      | 4/12 [00:35<01:08,  8.55s/it]"
     ]
    },
    {
     "name": "stdout",
     "output_type": "stream",
     "text": [
      "delta_date: 2025-02-17 07:21:50.588074\n",
      "published_date: 2024-04-23 19:21:50.588074\n"
     ]
    },
    {
     "name": "stderr",
     "output_type": "stream",
     "text": [
      "Procesando urls:  42%|████▏     | 5/12 [00:42<00:54,  7.83s/it]"
     ]
    },
    {
     "name": "stdout",
     "output_type": "stream",
     "text": [
      "delta_date: 2025-02-17 07:21:57.148890\n",
      "published_date: 2025-02-07 19:21:57.148890\n"
     ]
    },
    {
     "name": "stderr",
     "output_type": "stream",
     "text": [
      "Procesando urls:  50%|█████     | 6/12 [00:44<00:36,  6.09s/it]"
     ]
    },
    {
     "name": "stdout",
     "output_type": "stream",
     "text": [
      "delta_date: 2025-02-17 07:21:59.869035\n",
      "published_date: 2024-04-23 19:21:59.869035\n"
     ]
    },
    {
     "name": "stderr",
     "output_type": "stream",
     "text": [
      "Procesando urls:  58%|█████▊    | 7/12 [00:47<00:25,  5.07s/it]"
     ]
    },
    {
     "name": "stdout",
     "output_type": "stream",
     "text": [
      "delta_date: 2025-02-17 07:22:02.829751\n",
      "published_date: 2024-10-20 19:22:02.829751\n"
     ]
    },
    {
     "name": "stderr",
     "output_type": "stream",
     "text": [
      "Procesando urls:  67%|██████▋   | 8/12 [00:50<00:17,  4.43s/it]"
     ]
    },
    {
     "name": "stdout",
     "output_type": "stream",
     "text": [
      "delta_date: 2025-02-17 07:22:05.903433\n",
      "published_date: 2024-07-22 19:22:05.903433\n",
      "delta_date: 2025-02-17 07:22:24.378001\n",
      "published_date: 2025-02-17 09:22:24.378001\n"
     ]
    },
    {
     "name": "stderr",
     "output_type": "stream",
     "text": [
      "Procesando urls:  75%|███████▌  | 9/12 [01:11<00:28,  9.60s/it]"
     ]
    },
    {
     "name": "stdout",
     "output_type": "stream",
     "text": [
      "delta_date: 2025-02-17 07:22:26.863903\n",
      "published_date: 2025-02-16 19:22:26.863903\n"
     ]
    },
    {
     "name": "stderr",
     "output_type": "stream",
     "text": [
      "Procesando urls:  83%|████████▎ | 10/12 [01:14<00:15,  7.55s/it]"
     ]
    },
    {
     "name": "stdout",
     "output_type": "stream",
     "text": [
      "delta_date: 2025-02-17 07:22:29.839354\n",
      "published_date: 2024-02-18 19:22:29.839354\n"
     ]
    },
    {
     "name": "stderr",
     "output_type": "stream",
     "text": [
      "Procesando urls:  92%|█████████▏| 11/12 [01:17<00:06,  6.21s/it]"
     ]
    },
    {
     "name": "stdout",
     "output_type": "stream",
     "text": [
      "delta_date: 2025-02-17 07:22:33.014399\n",
      "published_date: 2024-07-22 19:22:33.014399\n"
     ]
    },
    {
     "name": "stderr",
     "output_type": "stream",
     "text": [
      "Procesando urls: 100%|██████████| 12/12 [01:20<00:00,  6.75s/it]"
     ]
    },
    {
     "name": "stdout",
     "output_type": "stream",
     "text": [
      "delta_date: 2025-02-17 07:22:36.080404\n",
      "published_date: 2024-02-18 19:22:36.080404\n"
     ]
    },
    {
     "name": "stderr",
     "output_type": "stream",
     "text": [
      "\n"
     ]
    },
    {
     "data": {
      "text/html": [
       "<div>\n",
       "<style scoped>\n",
       "    .dataframe tbody tr th:only-of-type {\n",
       "        vertical-align: middle;\n",
       "    }\n",
       "\n",
       "    .dataframe tbody tr th {\n",
       "        vertical-align: top;\n",
       "    }\n",
       "\n",
       "    .dataframe thead th {\n",
       "        text-align: right;\n",
       "    }\n",
       "</style>\n",
       "<table border=\"1\" class=\"dataframe\">\n",
       "  <thead>\n",
       "    <tr style=\"text-align: right;\">\n",
       "      <th></th>\n",
       "      <th>chanel_name</th>\n",
       "      <th>chanel_id</th>\n",
       "      <th>chanel_url</th>\n",
       "      <th>video_id</th>\n",
       "      <th>title</th>\n",
       "      <th>url</th>\n",
       "      <th>description</th>\n",
       "      <th>duration</th>\n",
       "      <th>keywords</th>\n",
       "      <th>publish_date</th>\n",
       "      <th>relativeDateText</th>\n",
       "      <th>total_length</th>\n",
       "      <th>total_views</th>\n",
       "      <th>video_rating</th>\n",
       "      <th>caption_text_es</th>\n",
       "    </tr>\n",
       "  </thead>\n",
       "  <tbody>\n",
       "    <tr>\n",
       "      <th>0</th>\n",
       "      <td>Bolsas Hoy | Esteban Pérez</td>\n",
       "      <td>UCWcFkWDnl9z8CRTuNWWlipw</td>\n",
       "      <td>https://www.youtube.com/channel/UCWcFkWDnl9z8C...</td>\n",
       "      <td>gUVlQ46nvdM</td>\n",
       "      <td>BUSCO 20% DE RENTABILIDAD ANUAL y No INVIERTO ...</td>\n",
       "      <td>https://www.youtube.com/watch?v=gUVlQ46nvdM</td>\n",
       "      <td>MATRÍCULA ABIERTA YA PARA CRECEINVEST DESDE CE...</td>\n",
       "      <td>524</td>\n",
       "      <td>None</td>\n",
       "      <td>2025-02-17</td>\n",
       "      <td>12 hours ago</td>\n",
       "      <td>0</td>\n",
       "      <td>0</td>\n",
       "      <td>None</td>\n",
       "      <td>Saludos cordiales hoy nos vamos a tomar el caf...</td>\n",
       "    </tr>\n",
       "    <tr>\n",
       "      <th>1</th>\n",
       "      <td>USACRYPTONOTICIAS</td>\n",
       "      <td>UCY8AYdix1el08AEFzzwS3Yg</td>\n",
       "      <td>https://www.youtube.com/channel/UCY8AYdix1el08...</td>\n",
       "      <td>DHEWt5xKKY8</td>\n",
       "      <td>ÚLTIMAS HORAS para INTENTAR SUBIDA en BITCOIN ...</td>\n",
       "      <td>https://www.youtube.com/watch?v=DHEWt5xKKY8</td>\n",
       "      <td>🍀🍀🍀 ENLACE BITGET\\nhttps://bonus.bitget.com/US...</td>\n",
       "      <td>7582</td>\n",
       "      <td>None</td>\n",
       "      <td>2025-02-17</td>\n",
       "      <td>Streamed 10 hours ago</td>\n",
       "      <td>0</td>\n",
       "      <td>0</td>\n",
       "      <td>None</td>\n",
       "      <td>bitcoin está en sus últimas horas para intenta...</td>\n",
       "    </tr>\n",
       "  </tbody>\n",
       "</table>\n",
       "</div>"
      ],
      "text/plain": [
       "                   chanel_name                 chanel_id  \\\n",
       "0  Bolsas Hoy | Esteban Pérez   UCWcFkWDnl9z8CRTuNWWlipw   \n",
       "1            USACRYPTONOTICIAS  UCY8AYdix1el08AEFzzwS3Yg   \n",
       "\n",
       "                                          chanel_url     video_id  \\\n",
       "0  https://www.youtube.com/channel/UCWcFkWDnl9z8C...  gUVlQ46nvdM   \n",
       "1  https://www.youtube.com/channel/UCY8AYdix1el08...  DHEWt5xKKY8   \n",
       "\n",
       "                                               title  \\\n",
       "0  BUSCO 20% DE RENTABILIDAD ANUAL y No INVIERTO ...   \n",
       "1  ÚLTIMAS HORAS para INTENTAR SUBIDA en BITCOIN ...   \n",
       "\n",
       "                                           url  \\\n",
       "0  https://www.youtube.com/watch?v=gUVlQ46nvdM   \n",
       "1  https://www.youtube.com/watch?v=DHEWt5xKKY8   \n",
       "\n",
       "                                         description  duration keywords  \\\n",
       "0  MATRÍCULA ABIERTA YA PARA CRECEINVEST DESDE CE...       524     None   \n",
       "1  🍀🍀🍀 ENLACE BITGET\\nhttps://bonus.bitget.com/US...      7582     None   \n",
       "\n",
       "  publish_date       relativeDateText  total_length  total_views video_rating  \\\n",
       "0   2025-02-17           12 hours ago             0            0         None   \n",
       "1   2025-02-17  Streamed 10 hours ago             0            0         None   \n",
       "\n",
       "                                     caption_text_es  \n",
       "0  Saludos cordiales hoy nos vamos a tomar el caf...  \n",
       "1  bitcoin está en sus últimas horas para intenta...  "
      ]
     },
     "execution_count": 8,
     "metadata": {},
     "output_type": "execute_result"
    }
   ],
   "source": [
    "df = data_ingestion.delta_load_from_youtube_channel_by_hours(chanel_list,12)\n",
    "df"
   ]
  }
 ],
 "metadata": {
  "kernelspec": {
   "display_name": ".venv",
   "language": "python",
   "name": "python3"
  },
  "language_info": {
   "codemirror_mode": {
    "name": "ipython",
    "version": 3
   },
   "file_extension": ".py",
   "mimetype": "text/x-python",
   "name": "python",
   "nbconvert_exporter": "python",
   "pygments_lexer": "ipython3",
   "version": "3.11.4"
  }
 },
 "nbformat": 4,
 "nbformat_minor": 2
}
