{
 "cells": [
  {
   "cell_type": "code",
   "execution_count": 1,
   "metadata": {},
   "outputs": [
    {
     "data": {
      "text/plain": [
       "True"
      ]
     },
     "execution_count": 1,
     "metadata": {},
     "output_type": "execute_result"
    }
   ],
   "source": [
    "import os\n",
    "import io\n",
    "import logging\n",
    "from datetime import datetime\n",
    "import azure.functions as func\n",
    "from logic.data_ingestion import DataIngestion\n",
    "from logic.blob_storage import BlobStorageManager\n",
    "\n",
    "from dotenv import load_dotenv\n",
    "load_dotenv()"
   ]
  },
  {
   "cell_type": "code",
   "execution_count": 2,
   "metadata": {},
   "outputs": [],
   "source": [
    "DELTA_DAYS = os.environ.get('DELTA_DAYS')\n",
    "DELTA_HOURS = os.environ.get('DELTA_HOURS')\n",
    "CHANNEL_LIST = os.environ.get('CHANNEL_LIST')\n",
    "SCHEDULE = os.environ.get('CRON_SCHEDULE')"
   ]
  },
  {
   "cell_type": "code",
   "execution_count": 3,
   "metadata": {},
   "outputs": [
    {
     "name": "stdout",
     "output_type": "stream",
     "text": [
      "https://www.youtube.com/@Crecetrader/videos\n",
      "https://www.youtube.com/@Crecetrader/shorts\n",
      "https://www.youtube.com/@BitcoinHoyOficial/videos\n",
      "https://www.youtube.com/@BitcoinHoyOficial/shorts\n",
      "https://www.youtube.com/@arenaalfa/videos\n",
      "https://www.youtube.com/@arenaalfa/shorts\n",
      "https://www.youtube.com/@USACRYPTONOTICIAS/videos\n",
      "https://www.youtube.com/@USACRYPTONOTICIAS/shorts\n",
      "https://www.youtube.com/@USACRYPTONOTICIAS/streams\n",
      "https://www.youtube.com/@BitcoinHoyOficial/streams\n",
      "https://www.youtube.com/@arenaalfa/streams\n",
      "https://www.youtube.com/@Crecetrader/streams\n"
     ]
    }
   ],
   "source": [
    "for x in CHANNEL_LIST.split(','):\n",
    "    print(x)"
   ]
  },
  {
   "cell_type": "code",
   "execution_count": 4,
   "metadata": {},
   "outputs": [],
   "source": [
    "data_ingestion = DataIngestion()\n",
    "bsm = BlobStorageManager()\n"
   ]
  },
  {
   "cell_type": "code",
   "execution_count": 5,
   "metadata": {},
   "outputs": [],
   "source": [
    "chanel_list = CHANNEL_LIST.split(',')"
   ]
  },
  {
   "cell_type": "code",
   "execution_count": 6,
   "metadata": {},
   "outputs": [
    {
     "data": {
      "text/plain": [
       "['https://www.youtube.com/@Crecetrader/videos',\n",
       " 'https://www.youtube.com/@Crecetrader/shorts',\n",
       " 'https://www.youtube.com/@BitcoinHoyOficial/videos',\n",
       " 'https://www.youtube.com/@BitcoinHoyOficial/shorts',\n",
       " 'https://www.youtube.com/@arenaalfa/videos',\n",
       " 'https://www.youtube.com/@arenaalfa/shorts',\n",
       " 'https://www.youtube.com/@USACRYPTONOTICIAS/videos',\n",
       " 'https://www.youtube.com/@USACRYPTONOTICIAS/shorts',\n",
       " 'https://www.youtube.com/@USACRYPTONOTICIAS/streams',\n",
       " 'https://www.youtube.com/@BitcoinHoyOficial/streams',\n",
       " 'https://www.youtube.com/@arenaalfa/streams',\n",
       " 'https://www.youtube.com/@Crecetrader/streams']"
      ]
     },
     "execution_count": 6,
     "metadata": {},
     "output_type": "execute_result"
    }
   ],
   "source": [
    "chanel_list"
   ]
  },
  {
   "cell_type": "code",
   "execution_count": 7,
   "metadata": {},
   "outputs": [
    {
     "name": "stderr",
     "output_type": "stream",
     "text": [
      "Procesando urls:   0%|          | 0/12 [00:00<?, ?it/s]"
     ]
    },
    {
     "name": "stdout",
     "output_type": "stream",
     "text": [
      "Something went wrong with transcript_list \n",
      "Could not retrieve a transcript for the video https://www.youtube.com/watch?v=oqZ1ZjDMVE4! This is most likely caused by:\n",
      "\n",
      "Subtitles are disabled for this video\n",
      "\n",
      "If you are sure that the described cause is not responsible for this error and that a transcript should be retrievable, please create an issue at https://github.com/jdepoix/youtube-transcript-api/issues. Please add which version of youtube_transcript_api you are using and provide the information needed to replicate the error. Also make sure that there are no open issues which already describe your problem!\n"
     ]
    },
    {
     "name": "stderr",
     "output_type": "stream",
     "text": [
      "Procesando urls:   8%|▊         | 1/12 [00:11<02:07, 11.57s/it]"
     ]
    },
    {
     "name": "stdout",
     "output_type": "stream",
     "text": [
      "Something went wrong with transcript_list \n",
      "Could not retrieve a transcript for the video https://www.youtube.com/watch?v=Xs514Jgdj4Q! This is most likely caused by:\n",
      "\n",
      "Subtitles are disabled for this video\n",
      "\n",
      "If you are sure that the described cause is not responsible for this error and that a transcript should be retrievable, please create an issue at https://github.com/jdepoix/youtube-transcript-api/issues. Please add which version of youtube_transcript_api you are using and provide the information needed to replicate the error. Also make sure that there are no open issues which already describe your problem!\n"
     ]
    },
    {
     "name": "stderr",
     "output_type": "stream",
     "text": [
      "Procesando urls:  17%|█▋        | 2/12 [00:14<01:03,  6.37s/it]"
     ]
    },
    {
     "name": "stdout",
     "output_type": "stream",
     "text": [
      "Something went wrong with transcript_list \n",
      "Could not retrieve a transcript for the video https://www.youtube.com/watch?v=oya3W2nuWes! This is most likely caused by:\n",
      "\n",
      "Subtitles are disabled for this video\n",
      "\n",
      "If you are sure that the described cause is not responsible for this error and that a transcript should be retrievable, please create an issue at https://github.com/jdepoix/youtube-transcript-api/issues. Please add which version of youtube_transcript_api you are using and provide the information needed to replicate the error. Also make sure that there are no open issues which already describe your problem!\n"
     ]
    },
    {
     "name": "stderr",
     "output_type": "stream",
     "text": [
      "Procesando urls:  25%|██▌       | 3/12 [00:37<02:05, 13.89s/it]"
     ]
    },
    {
     "name": "stdout",
     "output_type": "stream",
     "text": [
      "Something went wrong with transcript_list \n",
      "Could not retrieve a transcript for the video https://www.youtube.com/watch?v=lRbfMxKVKyI! This is most likely caused by:\n",
      "\n",
      "Subtitles are disabled for this video\n",
      "\n",
      "If you are sure that the described cause is not responsible for this error and that a transcript should be retrievable, please create an issue at https://github.com/jdepoix/youtube-transcript-api/issues. Please add which version of youtube_transcript_api you are using and provide the information needed to replicate the error. Also make sure that there are no open issues which already describe your problem!\n"
     ]
    },
    {
     "name": "stderr",
     "output_type": "stream",
     "text": [
      "Procesando urls:  33%|███▎      | 4/12 [00:39<01:16,  9.53s/it]"
     ]
    },
    {
     "name": "stdout",
     "output_type": "stream",
     "text": [
      "Something went wrong with transcript_list \n",
      "Could not retrieve a transcript for the video https://www.youtube.com/watch?v=YIL_MDG0KC4! This is most likely caused by:\n",
      "\n",
      "Subtitles are disabled for this video\n",
      "\n",
      "If you are sure that the described cause is not responsible for this error and that a transcript should be retrievable, please create an issue at https://github.com/jdepoix/youtube-transcript-api/issues. Please add which version of youtube_transcript_api you are using and provide the information needed to replicate the error. Also make sure that there are no open issues which already describe your problem!\n"
     ]
    },
    {
     "name": "stderr",
     "output_type": "stream",
     "text": [
      "Procesando urls:  42%|████▏     | 5/12 [00:46<00:58,  8.35s/it]"
     ]
    },
    {
     "name": "stdout",
     "output_type": "stream",
     "text": [
      "Something went wrong with transcript_list \n",
      "Could not retrieve a transcript for the video https://www.youtube.com/watch?v=EiHyNPPbRz8! This is most likely caused by:\n",
      "\n",
      "Subtitles are disabled for this video\n",
      "\n",
      "If you are sure that the described cause is not responsible for this error and that a transcript should be retrievable, please create an issue at https://github.com/jdepoix/youtube-transcript-api/issues. Please add which version of youtube_transcript_api you are using and provide the information needed to replicate the error. Also make sure that there are no open issues which already describe your problem!\n"
     ]
    },
    {
     "name": "stderr",
     "output_type": "stream",
     "text": [
      "Procesando urls:  50%|█████     | 6/12 [00:49<00:38,  6.48s/it]"
     ]
    },
    {
     "name": "stdout",
     "output_type": "stream",
     "text": [
      "Something went wrong with transcript_list \n",
      "Could not retrieve a transcript for the video https://www.youtube.com/watch?v=xfWkDYu3GQ8! This is most likely caused by:\n",
      "\n",
      "Subtitles are disabled for this video\n",
      "\n",
      "If you are sure that the described cause is not responsible for this error and that a transcript should be retrievable, please create an issue at https://github.com/jdepoix/youtube-transcript-api/issues. Please add which version of youtube_transcript_api you are using and provide the information needed to replicate the error. Also make sure that there are no open issues which already describe your problem!\n"
     ]
    },
    {
     "name": "stderr",
     "output_type": "stream",
     "text": [
      "Procesando urls:  58%|█████▊    | 7/12 [00:52<00:26,  5.34s/it]"
     ]
    },
    {
     "name": "stdout",
     "output_type": "stream",
     "text": [
      "Something went wrong with transcript_list \n",
      "Could not retrieve a transcript for the video https://www.youtube.com/watch?v=-t1nseRoq6E! This is most likely caused by:\n",
      "\n",
      "Subtitles are disabled for this video\n",
      "\n",
      "If you are sure that the described cause is not responsible for this error and that a transcript should be retrievable, please create an issue at https://github.com/jdepoix/youtube-transcript-api/issues. Please add which version of youtube_transcript_api you are using and provide the information needed to replicate the error. Also make sure that there are no open issues which already describe your problem!\n"
     ]
    },
    {
     "name": "stderr",
     "output_type": "stream",
     "text": [
      "Procesando urls: 100%|██████████| 12/12 [01:33<00:00,  7.80s/it]\n",
      "c:\\repos\\youtube-ingest\\logic\\data_ingestion.py:42: FutureWarning: The behavior of DataFrame concatenation with empty or all-NA entries is deprecated. In a future version, this will no longer exclude empty or all-NA columns when determining the result dtypes. To retain the old behavior, exclude the relevant entries before the concat operation.\n",
      "  df_concat = pd.concat(df_list, ignore_index=True)\n"
     ]
    },
    {
     "data": {
      "text/html": [
       "<div>\n",
       "<style scoped>\n",
       "    .dataframe tbody tr th:only-of-type {\n",
       "        vertical-align: middle;\n",
       "    }\n",
       "\n",
       "    .dataframe tbody tr th {\n",
       "        vertical-align: top;\n",
       "    }\n",
       "\n",
       "    .dataframe thead th {\n",
       "        text-align: right;\n",
       "    }\n",
       "</style>\n",
       "<table border=\"1\" class=\"dataframe\">\n",
       "  <thead>\n",
       "    <tr style=\"text-align: right;\">\n",
       "      <th></th>\n",
       "      <th>chanel_name</th>\n",
       "      <th>chanel_id</th>\n",
       "      <th>chanel_url</th>\n",
       "      <th>video_id</th>\n",
       "      <th>title</th>\n",
       "      <th>url</th>\n",
       "      <th>description</th>\n",
       "      <th>duration</th>\n",
       "      <th>keywords</th>\n",
       "      <th>publish_date</th>\n",
       "      <th>relativeDateText</th>\n",
       "      <th>total_length</th>\n",
       "      <th>total_views</th>\n",
       "      <th>video_rating</th>\n",
       "      <th>caption_text_es</th>\n",
       "    </tr>\n",
       "  </thead>\n",
       "  <tbody>\n",
       "    <tr>\n",
       "      <th>0</th>\n",
       "      <td>Bolsas Hoy | Esteban Pérez</td>\n",
       "      <td>UCWcFkWDnl9z8CRTuNWWlipw</td>\n",
       "      <td>https://www.youtube.com/channel/UCWcFkWDnl9z8C...</td>\n",
       "      <td>6LDY3Oopfk0</td>\n",
       "      <td>CÓMO SABER SI PUEDES APROVECHAR LOS OBJETIVOS ...</td>\n",
       "      <td>https://www.youtube.com/watch?v=6LDY3Oopfk0</td>\n",
       "      <td>➡Abierta la matrícula de la edición de Marzo: ...</td>\n",
       "      <td>1611</td>\n",
       "      <td>None</td>\n",
       "      <td>NaT</td>\n",
       "      <td>1 day ago</td>\n",
       "      <td>0</td>\n",
       "      <td>0</td>\n",
       "      <td>None</td>\n",
       "      <td>Saludos cordiales vamos a hacer este sábado un...</td>\n",
       "    </tr>\n",
       "    <tr>\n",
       "      <th>1</th>\n",
       "      <td>USACRYPTONOTICIAS</td>\n",
       "      <td>UCY8AYdix1el08AEFzzwS3Yg</td>\n",
       "      <td>https://www.youtube.com/channel/UCY8AYdix1el08...</td>\n",
       "      <td>-ici89fmps0</td>\n",
       "      <td>48 HORAS DECISIVAS para BITCOIN y ALTCOINS | B...</td>\n",
       "      <td>https://www.youtube.com/watch?v=-ici89fmps0</td>\n",
       "      <td>🍀🍀🍀 ENLACE BITGET\\nhttps://bonus.bitget.com/US...</td>\n",
       "      <td>7222</td>\n",
       "      <td>None</td>\n",
       "      <td>2025-02-16</td>\n",
       "      <td>Streamed 13 hours ago</td>\n",
       "      <td>0</td>\n",
       "      <td>0</td>\n",
       "      <td>None</td>\n",
       "      <td>Hola mis amigos Hola hola hola bienvenidos una...</td>\n",
       "    </tr>\n",
       "    <tr>\n",
       "      <th>2</th>\n",
       "      <td>USACRYPTONOTICIAS</td>\n",
       "      <td>UCY8AYdix1el08AEFzzwS3Yg</td>\n",
       "      <td>https://www.youtube.com/channel/UCY8AYdix1el08...</td>\n",
       "      <td>cjOWIsh1KgQ</td>\n",
       "      <td>PATRÓN ALCÍSTA de BITCOIN en CUENTA REGRESIVA?...</td>\n",
       "      <td>https://www.youtube.com/watch?v=cjOWIsh1KgQ</td>\n",
       "      <td>🍀🍀🍀 ENLACE BITGET\\nhttps://bonus.bitget.com/US...</td>\n",
       "      <td>1194</td>\n",
       "      <td>None</td>\n",
       "      <td>2025-02-15</td>\n",
       "      <td>Streamed 1 day ago</td>\n",
       "      <td>0</td>\n",
       "      <td>0</td>\n",
       "      <td>None</td>\n",
       "      <td>cualquiera te diría que no ha pasado nada en e...</td>\n",
       "    </tr>\n",
       "  </tbody>\n",
       "</table>\n",
       "</div>"
      ],
      "text/plain": [
       "                   chanel_name                 chanel_id  \\\n",
       "0  Bolsas Hoy | Esteban Pérez   UCWcFkWDnl9z8CRTuNWWlipw   \n",
       "1            USACRYPTONOTICIAS  UCY8AYdix1el08AEFzzwS3Yg   \n",
       "2            USACRYPTONOTICIAS  UCY8AYdix1el08AEFzzwS3Yg   \n",
       "\n",
       "                                          chanel_url     video_id  \\\n",
       "0  https://www.youtube.com/channel/UCWcFkWDnl9z8C...  6LDY3Oopfk0   \n",
       "1  https://www.youtube.com/channel/UCY8AYdix1el08...  -ici89fmps0   \n",
       "2  https://www.youtube.com/channel/UCY8AYdix1el08...  cjOWIsh1KgQ   \n",
       "\n",
       "                                               title  \\\n",
       "0  CÓMO SABER SI PUEDES APROVECHAR LOS OBJETIVOS ...   \n",
       "1  48 HORAS DECISIVAS para BITCOIN y ALTCOINS | B...   \n",
       "2  PATRÓN ALCÍSTA de BITCOIN en CUENTA REGRESIVA?...   \n",
       "\n",
       "                                           url  \\\n",
       "0  https://www.youtube.com/watch?v=6LDY3Oopfk0   \n",
       "1  https://www.youtube.com/watch?v=-ici89fmps0   \n",
       "2  https://www.youtube.com/watch?v=cjOWIsh1KgQ   \n",
       "\n",
       "                                         description  duration keywords  \\\n",
       "0  ➡Abierta la matrícula de la edición de Marzo: ...      1611     None   \n",
       "1  🍀🍀🍀 ENLACE BITGET\\nhttps://bonus.bitget.com/US...      7222     None   \n",
       "2  🍀🍀🍀 ENLACE BITGET\\nhttps://bonus.bitget.com/US...      1194     None   \n",
       "\n",
       "  publish_date       relativeDateText  total_length  total_views video_rating  \\\n",
       "0          NaT              1 day ago             0            0         None   \n",
       "1   2025-02-16  Streamed 13 hours ago             0            0         None   \n",
       "2   2025-02-15     Streamed 1 day ago             0            0         None   \n",
       "\n",
       "                                     caption_text_es  \n",
       "0  Saludos cordiales vamos a hacer este sábado un...  \n",
       "1  Hola mis amigos Hola hola hola bienvenidos una...  \n",
       "2  cualquiera te diría que no ha pasado nada en e...  "
      ]
     },
     "execution_count": 7,
     "metadata": {},
     "output_type": "execute_result"
    }
   ],
   "source": [
    "df = data_ingestion.delta_load_from_youtube_channel_by_days(chanel_list,1)\n",
    "df"
   ]
  },
  {
   "cell_type": "code",
   "execution_count": 8,
   "metadata": {},
   "outputs": [
    {
     "name": "stderr",
     "output_type": "stream",
     "text": [
      "Procesando urls:   0%|          | 0/12 [00:00<?, ?it/s]"
     ]
    },
    {
     "name": "stdout",
     "output_type": "stream",
     "text": [
      "delta_date: 2025-02-15 22:18:56.296386\n",
      "published_date: 2025-02-15 22:18:56.296386\n"
     ]
    },
    {
     "name": "stderr",
     "output_type": "stream",
     "text": [
      "Procesando urls:   8%|▊         | 1/12 [00:10<01:59, 10.85s/it]"
     ]
    },
    {
     "name": "stdout",
     "output_type": "stream",
     "text": [
      "delta_date: 2025-02-15 22:18:59.120133\n",
      "published_date: 2025-02-14 22:18:59.120133\n"
     ]
    },
    {
     "name": "stderr",
     "output_type": "stream",
     "text": [
      "Procesando urls:  17%|█▋        | 2/12 [00:14<01:04,  6.45s/it]"
     ]
    },
    {
     "name": "stdout",
     "output_type": "stream",
     "text": [
      "delta_date: 2025-02-15 22:19:02.485639\n",
      "published_date: 2024-04-22 22:19:02.485639\n"
     ]
    },
    {
     "name": "stderr",
     "output_type": "stream",
     "text": [
      "Procesando urls:  25%|██▌       | 3/12 [00:37<02:08, 14.24s/it]"
     ]
    },
    {
     "name": "stdout",
     "output_type": "stream",
     "text": [
      "delta_date: 2025-02-15 22:19:25.988257\n",
      "published_date: 2025-02-14 22:19:25.988257\n"
     ]
    },
    {
     "name": "stderr",
     "output_type": "stream",
     "text": [
      "Procesando urls:  33%|███▎      | 4/12 [00:40<01:18,  9.81s/it]"
     ]
    },
    {
     "name": "stdout",
     "output_type": "stream",
     "text": [
      "delta_date: 2025-02-15 22:19:29.019765\n",
      "published_date: 2024-04-22 22:19:29.019765\n"
     ]
    },
    {
     "name": "stderr",
     "output_type": "stream",
     "text": [
      "Procesando urls:  42%|████▏     | 5/12 [00:47<00:59,  8.56s/it]"
     ]
    },
    {
     "name": "stdout",
     "output_type": "stream",
     "text": [
      "delta_date: 2025-02-15 22:19:35.350172\n",
      "published_date: 2025-02-07 22:19:35.350172\n"
     ]
    },
    {
     "name": "stderr",
     "output_type": "stream",
     "text": [
      "Procesando urls:  50%|█████     | 6/12 [00:51<00:41,  7.00s/it]"
     ]
    },
    {
     "name": "stdout",
     "output_type": "stream",
     "text": [
      "delta_date: 2025-02-15 22:19:39.316990\n",
      "published_date: 2024-04-22 22:19:39.316990\n"
     ]
    },
    {
     "name": "stderr",
     "output_type": "stream",
     "text": [
      "Procesando urls:  58%|█████▊    | 7/12 [00:54<00:28,  5.70s/it]"
     ]
    },
    {
     "name": "stdout",
     "output_type": "stream",
     "text": [
      "delta_date: 2025-02-15 22:19:42.349272\n",
      "published_date: 2024-10-19 22:19:42.349272\n"
     ]
    },
    {
     "name": "stderr",
     "output_type": "stream",
     "text": [
      "Procesando urls:  67%|██████▋   | 8/12 [00:58<00:20,  5.18s/it]"
     ]
    },
    {
     "name": "stdout",
     "output_type": "stream",
     "text": [
      "delta_date: 2025-02-15 22:19:46.408568\n",
      "published_date: 2024-07-21 22:19:46.408568\n",
      "delta_date: 2025-02-15 22:20:05.982895\n",
      "published_date: 2025-02-16 09:20:05.982895\n",
      "delta_date: 2025-02-15 22:20:08.414687\n",
      "published_date: 2025-02-15 22:20:08.414687\n"
     ]
    },
    {
     "name": "stderr",
     "output_type": "stream",
     "text": [
      "Procesando urls:  75%|███████▌  | 9/12 [01:23<00:34, 11.37s/it]"
     ]
    },
    {
     "name": "stdout",
     "output_type": "stream",
     "text": [
      "delta_date: 2025-02-15 22:20:11.396845\n",
      "published_date: 2025-02-14 22:20:11.396845\n"
     ]
    },
    {
     "name": "stderr",
     "output_type": "stream",
     "text": [
      "Procesando urls:  83%|████████▎ | 10/12 [01:26<00:17,  8.98s/it]"
     ]
    },
    {
     "name": "stdout",
     "output_type": "stream",
     "text": [
      "delta_date: 2025-02-15 22:20:15.034551\n",
      "published_date: 2024-02-17 22:20:15.034551\n"
     ]
    },
    {
     "name": "stderr",
     "output_type": "stream",
     "text": [
      "Procesando urls:  92%|█████████▏| 11/12 [01:30<00:07,  7.23s/it]"
     ]
    },
    {
     "name": "stdout",
     "output_type": "stream",
     "text": [
      "delta_date: 2025-02-15 22:20:18.284275\n",
      "published_date: 2024-07-21 22:20:18.284275\n"
     ]
    },
    {
     "name": "stderr",
     "output_type": "stream",
     "text": [
      "Procesando urls: 100%|██████████| 12/12 [01:35<00:00,  7.92s/it]"
     ]
    },
    {
     "name": "stdout",
     "output_type": "stream",
     "text": [
      "delta_date: 2025-02-15 22:20:23.311934\n",
      "published_date: 2024-02-17 22:20:23.311934\n"
     ]
    },
    {
     "name": "stderr",
     "output_type": "stream",
     "text": [
      "\n"
     ]
    },
    {
     "data": {
      "text/html": [
       "<div>\n",
       "<style scoped>\n",
       "    .dataframe tbody tr th:only-of-type {\n",
       "        vertical-align: middle;\n",
       "    }\n",
       "\n",
       "    .dataframe tbody tr th {\n",
       "        vertical-align: top;\n",
       "    }\n",
       "\n",
       "    .dataframe thead th {\n",
       "        text-align: right;\n",
       "    }\n",
       "</style>\n",
       "<table border=\"1\" class=\"dataframe\">\n",
       "  <thead>\n",
       "    <tr style=\"text-align: right;\">\n",
       "      <th></th>\n",
       "      <th>chanel_name</th>\n",
       "      <th>chanel_id</th>\n",
       "      <th>chanel_url</th>\n",
       "      <th>video_id</th>\n",
       "      <th>title</th>\n",
       "      <th>url</th>\n",
       "      <th>description</th>\n",
       "      <th>duration</th>\n",
       "      <th>keywords</th>\n",
       "      <th>publish_date</th>\n",
       "      <th>relativeDateText</th>\n",
       "      <th>total_length</th>\n",
       "      <th>total_views</th>\n",
       "      <th>video_rating</th>\n",
       "      <th>caption_text_es</th>\n",
       "    </tr>\n",
       "  </thead>\n",
       "  <tbody>\n",
       "    <tr>\n",
       "      <th>0</th>\n",
       "      <td>Bolsas Hoy | Esteban Pérez</td>\n",
       "      <td>UCWcFkWDnl9z8CRTuNWWlipw</td>\n",
       "      <td>https://www.youtube.com/channel/UCWcFkWDnl9z8C...</td>\n",
       "      <td>6LDY3Oopfk0</td>\n",
       "      <td>CÓMO SABER SI PUEDES APROVECHAR LOS OBJETIVOS ...</td>\n",
       "      <td>https://www.youtube.com/watch?v=6LDY3Oopfk0</td>\n",
       "      <td>➡Abierta la matrícula de la edición de Marzo: ...</td>\n",
       "      <td>1611</td>\n",
       "      <td>None</td>\n",
       "      <td>2025-02-15</td>\n",
       "      <td>1 day ago</td>\n",
       "      <td>0</td>\n",
       "      <td>0</td>\n",
       "      <td>None</td>\n",
       "      <td>Saludos cordiales vamos a hacer este sábado un...</td>\n",
       "    </tr>\n",
       "    <tr>\n",
       "      <th>1</th>\n",
       "      <td>USACRYPTONOTICIAS</td>\n",
       "      <td>UCY8AYdix1el08AEFzzwS3Yg</td>\n",
       "      <td>https://www.youtube.com/channel/UCY8AYdix1el08...</td>\n",
       "      <td>-ici89fmps0</td>\n",
       "      <td>48 HORAS DECISIVAS para BITCOIN y ALTCOINS | B...</td>\n",
       "      <td>https://www.youtube.com/watch?v=-ici89fmps0</td>\n",
       "      <td>🍀🍀🍀 ENLACE BITGET\\nhttps://bonus.bitget.com/US...</td>\n",
       "      <td>7222</td>\n",
       "      <td>None</td>\n",
       "      <td>2025-02-16</td>\n",
       "      <td>Streamed 13 hours ago</td>\n",
       "      <td>0</td>\n",
       "      <td>0</td>\n",
       "      <td>None</td>\n",
       "      <td>Hola mis amigos Hola hola hola bienvenidos una...</td>\n",
       "    </tr>\n",
       "    <tr>\n",
       "      <th>2</th>\n",
       "      <td>USACRYPTONOTICIAS</td>\n",
       "      <td>UCY8AYdix1el08AEFzzwS3Yg</td>\n",
       "      <td>https://www.youtube.com/channel/UCY8AYdix1el08...</td>\n",
       "      <td>cjOWIsh1KgQ</td>\n",
       "      <td>PATRÓN ALCÍSTA de BITCOIN en CUENTA REGRESIVA?...</td>\n",
       "      <td>https://www.youtube.com/watch?v=cjOWIsh1KgQ</td>\n",
       "      <td>🍀🍀🍀 ENLACE BITGET\\nhttps://bonus.bitget.com/US...</td>\n",
       "      <td>1194</td>\n",
       "      <td>None</td>\n",
       "      <td>2025-02-15</td>\n",
       "      <td>Streamed 1 day ago</td>\n",
       "      <td>0</td>\n",
       "      <td>0</td>\n",
       "      <td>None</td>\n",
       "      <td>cualquiera te diría que no ha pasado nada en e...</td>\n",
       "    </tr>\n",
       "  </tbody>\n",
       "</table>\n",
       "</div>"
      ],
      "text/plain": [
       "                   chanel_name                 chanel_id  \\\n",
       "0  Bolsas Hoy | Esteban Pérez   UCWcFkWDnl9z8CRTuNWWlipw   \n",
       "1            USACRYPTONOTICIAS  UCY8AYdix1el08AEFzzwS3Yg   \n",
       "2            USACRYPTONOTICIAS  UCY8AYdix1el08AEFzzwS3Yg   \n",
       "\n",
       "                                          chanel_url     video_id  \\\n",
       "0  https://www.youtube.com/channel/UCWcFkWDnl9z8C...  6LDY3Oopfk0   \n",
       "1  https://www.youtube.com/channel/UCY8AYdix1el08...  -ici89fmps0   \n",
       "2  https://www.youtube.com/channel/UCY8AYdix1el08...  cjOWIsh1KgQ   \n",
       "\n",
       "                                               title  \\\n",
       "0  CÓMO SABER SI PUEDES APROVECHAR LOS OBJETIVOS ...   \n",
       "1  48 HORAS DECISIVAS para BITCOIN y ALTCOINS | B...   \n",
       "2  PATRÓN ALCÍSTA de BITCOIN en CUENTA REGRESIVA?...   \n",
       "\n",
       "                                           url  \\\n",
       "0  https://www.youtube.com/watch?v=6LDY3Oopfk0   \n",
       "1  https://www.youtube.com/watch?v=-ici89fmps0   \n",
       "2  https://www.youtube.com/watch?v=cjOWIsh1KgQ   \n",
       "\n",
       "                                         description  duration keywords  \\\n",
       "0  ➡Abierta la matrícula de la edición de Marzo: ...      1611     None   \n",
       "1  🍀🍀🍀 ENLACE BITGET\\nhttps://bonus.bitget.com/US...      7222     None   \n",
       "2  🍀🍀🍀 ENLACE BITGET\\nhttps://bonus.bitget.com/US...      1194     None   \n",
       "\n",
       "  publish_date       relativeDateText  total_length  total_views video_rating  \\\n",
       "0   2025-02-15              1 day ago             0            0         None   \n",
       "1   2025-02-16  Streamed 13 hours ago             0            0         None   \n",
       "2   2025-02-15     Streamed 1 day ago             0            0         None   \n",
       "\n",
       "                                     caption_text_es  \n",
       "0  Saludos cordiales vamos a hacer este sábado un...  \n",
       "1  Hola mis amigos Hola hola hola bienvenidos una...  \n",
       "2  cualquiera te diría que no ha pasado nada en e...  "
      ]
     },
     "execution_count": 8,
     "metadata": {},
     "output_type": "execute_result"
    }
   ],
   "source": [
    "df = data_ingestion.delta_load_from_youtube_channel_by_hours(chanel_list,24)\n",
    "df"
   ]
  }
 ],
 "metadata": {
  "kernelspec": {
   "display_name": ".venv",
   "language": "python",
   "name": "python3"
  },
  "language_info": {
   "codemirror_mode": {
    "name": "ipython",
    "version": 3
   },
   "file_extension": ".py",
   "mimetype": "text/x-python",
   "name": "python",
   "nbconvert_exporter": "python",
   "pygments_lexer": "ipython3",
   "version": "3.11.4"
  }
 },
 "nbformat": 4,
 "nbformat_minor": 2
}
