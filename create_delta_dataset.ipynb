{
 "cells": [
  {
   "cell_type": "code",
   "execution_count": 1,
   "metadata": {},
   "outputs": [
    {
     "data": {
      "text/plain": [
       "True"
      ]
     },
     "execution_count": 1,
     "metadata": {},
     "output_type": "execute_result"
    }
   ],
   "source": [
    "import os\n",
    "from logic.data_ingestion import DataIngestion\n",
    "from logic.blob_storage import BlobStorageManager\n",
    "\n",
    "from dotenv import load_dotenv\n",
    "load_dotenv()"
   ]
  },
  {
   "cell_type": "code",
   "execution_count": 2,
   "metadata": {},
   "outputs": [],
   "source": [
    "DELTA_DAYS = os.environ.get('DELTA_DAYS')\n",
    "DELTA_HOURS = os.environ.get('DELTA_HOURS')\n",
    "CHANNEL_LIST = os.environ.get('CHANNEL_LIST')\n",
    "SCHEDULE = os.environ.get('CRON_SCHEDULE')"
   ]
  },
  {
   "cell_type": "code",
   "execution_count": 4,
   "metadata": {},
   "outputs": [
    {
     "name": "stdout",
     "output_type": "stream",
     "text": [
      "https://www.youtube.com/@Crecetrader/videos\n",
      "https://www.youtube.com/@Crecetrader/shorts\n",
      "https://www.youtube.com/@BitcoinHoyOficial/videos\n",
      "https://www.youtube.com/@BitcoinHoyOficial/shorts\n",
      "https://www.youtube.com/@arenaalfa/videos\n",
      "https://www.youtube.com/@arenaalfa/shorts\n",
      "https://www.youtube.com/@USACRYPTONOTICIAS/videos\n",
      "https://www.youtube.com/@USACRYPTONOTICIAS/shorts\n",
      "https://www.youtube.com/@USACRYPTONOTICIAS/streams\n",
      "https://www.youtube.com/@BitcoinHoyOficial/streams\n",
      "https://www.youtube.com/@arenaalfa/streams\n",
      "https://www.youtube.com/@Crecetrader/streams\n"
     ]
    }
   ],
   "source": [
    "for x in CHANNEL_LIST.split(','):\n",
    "    print(x)"
   ]
  },
  {
   "cell_type": "code",
   "execution_count": 5,
   "metadata": {},
   "outputs": [],
   "source": [
    "data_ingestion = DataIngestion()\n",
    "bsm = BlobStorageManager()\n"
   ]
  },
  {
   "cell_type": "code",
   "execution_count": 6,
   "metadata": {},
   "outputs": [],
   "source": [
    "chanel_list = CHANNEL_LIST.split(',')"
   ]
  },
  {
   "cell_type": "code",
   "execution_count": 7,
   "metadata": {},
   "outputs": [
    {
     "data": {
      "text/plain": [
       "['https://www.youtube.com/@Crecetrader/videos',\n",
       " 'https://www.youtube.com/@Crecetrader/shorts',\n",
       " 'https://www.youtube.com/@BitcoinHoyOficial/videos',\n",
       " 'https://www.youtube.com/@BitcoinHoyOficial/shorts',\n",
       " 'https://www.youtube.com/@arenaalfa/videos',\n",
       " 'https://www.youtube.com/@arenaalfa/shorts',\n",
       " 'https://www.youtube.com/@USACRYPTONOTICIAS/videos',\n",
       " 'https://www.youtube.com/@USACRYPTONOTICIAS/shorts',\n",
       " 'https://www.youtube.com/@USACRYPTONOTICIAS/streams',\n",
       " 'https://www.youtube.com/@BitcoinHoyOficial/streams',\n",
       " 'https://www.youtube.com/@arenaalfa/streams',\n",
       " 'https://www.youtube.com/@Crecetrader/streams']"
      ]
     },
     "execution_count": 7,
     "metadata": {},
     "output_type": "execute_result"
    }
   ],
   "source": [
    "chanel_list"
   ]
  },
  {
   "cell_type": "code",
   "execution_count": 12,
   "metadata": {},
   "outputs": [
    {
     "name": "stderr",
     "output_type": "stream",
     "text": [
      "Procesando urls:  67%|██████▋   | 8/12 [13:47<05:11, 78.00s/it] "
     ]
    },
    {
     "name": "stdout",
     "output_type": "stream",
     "text": [
      "Something went wrong with transcript_list \n",
      "Could not retrieve a transcript for the video https://www.youtube.com/watch?v=4Xa-p5yMJS8! This is most likely caused by:\n",
      "\n",
      "Subtitles are disabled for this video\n",
      "\n",
      "If you are sure that the described cause is not responsible for this error and that a transcript should be retrievable, please create an issue at https://github.com/jdepoix/youtube-transcript-api/issues. Please add which version of youtube_transcript_api you are using and provide the information needed to replicate the error. Also make sure that there are no open issues which already describe your problem!\n"
     ]
    },
    {
     "name": "stderr",
     "output_type": "stream",
     "text": [
      "Procesando urls: 100%|██████████| 12/12 [19:55<00:00, 99.62s/it] \n"
     ]
    }
   ],
   "source": [
    "df = data_ingestion.delta_load_from_youtube_channel_by_days(chanel_list,47)\n",
    "#df"
   ]
  },
  {
   "cell_type": "code",
   "execution_count": 13,
   "metadata": {},
   "outputs": [
    {
     "name": "stdout",
     "output_type": "stream",
     "text": [
      "<class 'pandas.core.frame.DataFrame'>\n",
      "RangeIndex: 186 entries, 0 to 185\n",
      "Data columns (total 15 columns):\n",
      " #   Column            Non-Null Count  Dtype         \n",
      "---  ------            --------------  -----         \n",
      " 0   channel_name      186 non-null    object        \n",
      " 1   channel_id        186 non-null    object        \n",
      " 2   channel_url       186 non-null    object        \n",
      " 3   video_id          186 non-null    object        \n",
      " 4   title             186 non-null    object        \n",
      " 5   url               186 non-null    object        \n",
      " 6   description       180 non-null    object        \n",
      " 7   duration          182 non-null    object        \n",
      " 8   keywords          0 non-null      object        \n",
      " 9   publish_date      186 non-null    datetime64[ns]\n",
      " 10  relativeDateText  186 non-null    object        \n",
      " 11  total_length      186 non-null    int64         \n",
      " 12  total_views       186 non-null    int64         \n",
      " 13  video_rating      186 non-null    int64         \n",
      " 14  caption_text_es   185 non-null    object        \n",
      "dtypes: datetime64[ns](1), int64(3), object(11)\n",
      "memory usage: 21.9+ KB\n"
     ]
    }
   ],
   "source": [
    "df.info()"
   ]
  },
  {
   "cell_type": "code",
   "execution_count": 14,
   "metadata": {},
   "outputs": [
    {
     "data": {
      "text/plain": [
       "Timestamp('2025-02-18 00:00:00')"
      ]
     },
     "execution_count": 14,
     "metadata": {},
     "output_type": "execute_result"
    }
   ],
   "source": [
    "df['publish_date'].min()"
   ]
  },
  {
   "cell_type": "code",
   "execution_count": 15,
   "metadata": {},
   "outputs": [
    {
     "data": {
      "text/plain": [
       "Timestamp('2025-04-17 00:00:00')"
      ]
     },
     "execution_count": 15,
     "metadata": {},
     "output_type": "execute_result"
    }
   ],
   "source": [
    "df['publish_date'].max()"
   ]
  },
  {
   "cell_type": "code",
   "execution_count": 16,
   "metadata": {},
   "outputs": [],
   "source": [
    "df.to_csv('data/datos_1_marzo_al_17_abril.csv',sep= \";\",index=False)"
   ]
  },
  {
   "cell_type": "code",
   "execution_count": 8,
   "metadata": {},
   "outputs": [
    {
     "name": "stderr",
     "output_type": "stream",
     "text": [
      "Procesando urls:   8%|▊         | 1/12 [00:11<02:11, 11.92s/it]"
     ]
    },
    {
     "name": "stdout",
     "output_type": "stream",
     "text": [
      "delta_date: 2025-04-17 05:54:48.676019\n",
      "published_date: 2025-04-07 13:54:48.676032\n"
     ]
    },
    {
     "name": "stderr",
     "output_type": "stream",
     "text": [
      "Procesando urls:  17%|█▋        | 2/12 [00:17<01:20,  8.06s/it]"
     ]
    },
    {
     "name": "stdout",
     "output_type": "stream",
     "text": [
      "delta_date: 2025-04-17 05:54:54.036388\n",
      "published_date: 2024-04-17 13:54:54.036397\n",
      "delta_date: 2025-04-17 05:55:18.308737\n",
      "published_date: 2025-04-17 12:55:18.308744\n"
     ]
    },
    {
     "name": "stderr",
     "output_type": "stream",
     "text": [
      "Procesando urls:  25%|██▌       | 3/12 [00:47<02:41, 17.97s/it]"
     ]
    },
    {
     "name": "stdout",
     "output_type": "stream",
     "text": [
      "delta_date: 2025-04-17 05:55:23.790846\n",
      "published_date: 2025-04-16 13:55:23.790853\n"
     ]
    },
    {
     "name": "stderr",
     "output_type": "stream",
     "text": [
      "Procesando urls:  33%|███▎      | 4/12 [00:52<01:44, 13.03s/it]"
     ]
    },
    {
     "name": "stdout",
     "output_type": "stream",
     "text": [
      "delta_date: 2025-04-17 05:55:29.241995\n",
      "published_date: 2024-04-17 13:55:29.242003\n"
     ]
    },
    {
     "name": "stderr",
     "output_type": "stream",
     "text": [
      "Procesando urls:  42%|████▏     | 5/12 [01:02<01:22, 11.82s/it]"
     ]
    },
    {
     "name": "stdout",
     "output_type": "stream",
     "text": [
      "delta_date: 2025-04-17 05:55:38.923577\n",
      "published_date: 2025-04-09 13:55:38.923585\n"
     ]
    },
    {
     "name": "stderr",
     "output_type": "stream",
     "text": [
      "Procesando urls:  50%|█████     | 6/12 [01:08<00:58,  9.81s/it]"
     ]
    },
    {
     "name": "stdout",
     "output_type": "stream",
     "text": [
      "delta_date: 2025-04-17 05:55:44.821570\n",
      "published_date: 2024-04-17 13:55:44.821582\n"
     ]
    },
    {
     "name": "stderr",
     "output_type": "stream",
     "text": [
      "Procesando urls:  58%|█████▊    | 7/12 [01:13<00:42,  8.53s/it]"
     ]
    },
    {
     "name": "stdout",
     "output_type": "stream",
     "text": [
      "delta_date: 2025-04-17 05:55:50.714512\n",
      "published_date: 2025-04-09 13:55:50.714520\n"
     ]
    },
    {
     "name": "stderr",
     "output_type": "stream",
     "text": [
      "Procesando urls:  67%|██████▋   | 8/12 [01:19<00:30,  7.60s/it]"
     ]
    },
    {
     "name": "stdout",
     "output_type": "stream",
     "text": [
      "delta_date: 2025-04-17 05:55:56.324569\n",
      "published_date: 2025-03-17 00:00:00\n",
      "delta_date: 2025-04-17 05:56:18.727392\n",
      "published_date: 2025-04-17 08:56:18.727399\n"
     ]
    },
    {
     "name": "stderr",
     "output_type": "stream",
     "text": [
      "Procesando urls:  75%|███████▌  | 9/12 [01:46<00:40, 13.60s/it]"
     ]
    },
    {
     "name": "stdout",
     "output_type": "stream",
     "text": [
      "delta_date: 2025-04-17 05:56:23.117246\n",
      "published_date: 2025-04-16 13:56:23.117261\n"
     ]
    },
    {
     "name": "stderr",
     "output_type": "stream",
     "text": [
      "Procesando urls:  83%|████████▎ | 10/12 [01:51<00:21, 11.00s/it]"
     ]
    },
    {
     "name": "stdout",
     "output_type": "stream",
     "text": [
      "delta_date: 2025-04-17 05:56:28.284929\n",
      "published_date: 2024-04-17 13:56:28.284945\n"
     ]
    },
    {
     "name": "stderr",
     "output_type": "stream",
     "text": [
      "Procesando urls:  92%|█████████▏| 11/12 [01:56<00:09,  9.23s/it]"
     ]
    },
    {
     "name": "stdout",
     "output_type": "stream",
     "text": [
      "delta_date: 2025-04-17 05:56:33.524073\n",
      "published_date: 2024-07-21 13:56:33.524086\n"
     ]
    },
    {
     "name": "stderr",
     "output_type": "stream",
     "text": [
      "Procesando urls: 100%|██████████| 12/12 [02:02<00:00, 10.18s/it]"
     ]
    },
    {
     "name": "stdout",
     "output_type": "stream",
     "text": [
      "delta_date: 2025-04-17 05:56:38.934222\n",
      "published_date: 2024-04-17 13:56:38.934233\n"
     ]
    },
    {
     "name": "stderr",
     "output_type": "stream",
     "text": [
      "\n"
     ]
    },
    {
     "data": {
      "text/html": [
       "<div>\n",
       "<style scoped>\n",
       "    .dataframe tbody tr th:only-of-type {\n",
       "        vertical-align: middle;\n",
       "    }\n",
       "\n",
       "    .dataframe tbody tr th {\n",
       "        vertical-align: top;\n",
       "    }\n",
       "\n",
       "    .dataframe thead th {\n",
       "        text-align: right;\n",
       "    }\n",
       "</style>\n",
       "<table border=\"1\" class=\"dataframe\">\n",
       "  <thead>\n",
       "    <tr style=\"text-align: right;\">\n",
       "      <th></th>\n",
       "      <th>channel_name</th>\n",
       "      <th>channel_id</th>\n",
       "      <th>channel_url</th>\n",
       "      <th>video_id</th>\n",
       "      <th>title</th>\n",
       "      <th>url</th>\n",
       "      <th>description</th>\n",
       "      <th>duration</th>\n",
       "      <th>keywords</th>\n",
       "      <th>publish_date</th>\n",
       "      <th>relativeDateText</th>\n",
       "      <th>total_length</th>\n",
       "      <th>total_views</th>\n",
       "      <th>video_rating</th>\n",
       "      <th>caption_text_es</th>\n",
       "    </tr>\n",
       "  </thead>\n",
       "  <tbody>\n",
       "    <tr>\n",
       "      <th>0</th>\n",
       "      <td>Bitcoin hoy</td>\n",
       "      <td>UC4DOPLw9NRRBFW4wYjcWxiA</td>\n",
       "      <td>https://www.youtube.com/channel/UC4DOPLw9NRRBF...</td>\n",
       "      <td>9xB3R2pAURY</td>\n",
       "      <td>💥CAN YOU WIN ON DAYS WHEN THE BTC PRICE DOESN'...</td>\n",
       "      <td>https://www.youtube.com/watch?v=9xB3R2pAURY</td>\n",
       "      <td>🖍️My CRECETRADER training FROM SCRATCH: 👉 http...</td>\n",
       "      <td>1120</td>\n",
       "      <td>None</td>\n",
       "      <td>2025-04-17</td>\n",
       "      <td>1 hour ago</td>\n",
       "      <td>0</td>\n",
       "      <td>0</td>\n",
       "      <td>0</td>\n",
       "      <td>saludos cordiales vamos a hacer una actualizac...</td>\n",
       "    </tr>\n",
       "    <tr>\n",
       "      <th>1</th>\n",
       "      <td>USACRYPTONOTICIAS</td>\n",
       "      <td>UCY8AYdix1el08AEFzzwS3Yg</td>\n",
       "      <td>https://www.youtube.com/channel/UCY8AYdix1el08...</td>\n",
       "      <td>aZ6Bb2aiLk0</td>\n",
       "      <td>TERMINÓ PATRÓN de CAÍDA en GRÁFICO  de 4 HORAS...</td>\n",
       "      <td>https://www.youtube.com/watch?v=aZ6Bb2aiLk0</td>\n",
       "      <td>🌺🌺🌺    ENLACE BITUNIX NO VPN NO KYC\\nhttps://w...</td>\n",
       "      <td>3910</td>\n",
       "      <td>None</td>\n",
       "      <td>2025-04-17</td>\n",
       "      <td>Streamed 5 hours ago</td>\n",
       "      <td>0</td>\n",
       "      <td>0</td>\n",
       "      <td>0</td>\n",
       "      <td>vamos hola Pablo Masaclia vamos Bitcoin vamos ...</td>\n",
       "    </tr>\n",
       "  </tbody>\n",
       "</table>\n",
       "</div>"
      ],
      "text/plain": [
       "        channel_name                channel_id  \\\n",
       "0        Bitcoin hoy  UC4DOPLw9NRRBFW4wYjcWxiA   \n",
       "1  USACRYPTONOTICIAS  UCY8AYdix1el08AEFzzwS3Yg   \n",
       "\n",
       "                                         channel_url     video_id  \\\n",
       "0  https://www.youtube.com/channel/UC4DOPLw9NRRBF...  9xB3R2pAURY   \n",
       "1  https://www.youtube.com/channel/UCY8AYdix1el08...  aZ6Bb2aiLk0   \n",
       "\n",
       "                                               title  \\\n",
       "0  💥CAN YOU WIN ON DAYS WHEN THE BTC PRICE DOESN'...   \n",
       "1  TERMINÓ PATRÓN de CAÍDA en GRÁFICO  de 4 HORAS...   \n",
       "\n",
       "                                           url  \\\n",
       "0  https://www.youtube.com/watch?v=9xB3R2pAURY   \n",
       "1  https://www.youtube.com/watch?v=aZ6Bb2aiLk0   \n",
       "\n",
       "                                         description  duration keywords  \\\n",
       "0  🖍️My CRECETRADER training FROM SCRATCH: 👉 http...      1120     None   \n",
       "1  🌺🌺🌺    ENLACE BITUNIX NO VPN NO KYC\\nhttps://w...      3910     None   \n",
       "\n",
       "  publish_date      relativeDateText  total_length  total_views  video_rating  \\\n",
       "0   2025-04-17            1 hour ago             0            0             0   \n",
       "1   2025-04-17  Streamed 5 hours ago             0            0             0   \n",
       "\n",
       "                                     caption_text_es  \n",
       "0  saludos cordiales vamos a hacer una actualizac...  \n",
       "1  vamos hola Pablo Masaclia vamos Bitcoin vamos ...  "
      ]
     },
     "execution_count": 8,
     "metadata": {},
     "output_type": "execute_result"
    }
   ],
   "source": [
    "df_last_hour = data_ingestion.delta_load_from_youtube_channel_by_hours(chanel_list,8)\n",
    "df_last_hour"
   ]
  },
  {
   "cell_type": "code",
   "execution_count": 9,
   "metadata": {},
   "outputs": [
    {
     "name": "stdout",
     "output_type": "stream",
     "text": [
      "<class 'pandas.core.frame.DataFrame'>\n",
      "RangeIndex: 2 entries, 0 to 1\n",
      "Data columns (total 15 columns):\n",
      " #   Column            Non-Null Count  Dtype         \n",
      "---  ------            --------------  -----         \n",
      " 0   channel_name      2 non-null      object        \n",
      " 1   channel_id        2 non-null      object        \n",
      " 2   channel_url       2 non-null      object        \n",
      " 3   video_id          2 non-null      object        \n",
      " 4   title             2 non-null      object        \n",
      " 5   url               2 non-null      object        \n",
      " 6   description       2 non-null      object        \n",
      " 7   duration          2 non-null      int64         \n",
      " 8   keywords          0 non-null      object        \n",
      " 9   publish_date      2 non-null      datetime64[ns]\n",
      " 10  relativeDateText  2 non-null      object        \n",
      " 11  total_length      2 non-null      int64         \n",
      " 12  total_views       2 non-null      int64         \n",
      " 13  video_rating      2 non-null      int64         \n",
      " 14  caption_text_es   2 non-null      object        \n",
      "dtypes: datetime64[ns](1), int64(4), object(10)\n",
      "memory usage: 368.0+ bytes\n"
     ]
    }
   ],
   "source": [
    "df_last_hour.info()"
   ]
  },
  {
   "cell_type": "code",
   "execution_count": 11,
   "metadata": {},
   "outputs": [
    {
     "data": {
      "text/html": [
       "<div>\n",
       "<style scoped>\n",
       "    .dataframe tbody tr th:only-of-type {\n",
       "        vertical-align: middle;\n",
       "    }\n",
       "\n",
       "    .dataframe tbody tr th {\n",
       "        vertical-align: top;\n",
       "    }\n",
       "\n",
       "    .dataframe thead th {\n",
       "        text-align: right;\n",
       "    }\n",
       "</style>\n",
       "<table border=\"1\" class=\"dataframe\">\n",
       "  <thead>\n",
       "    <tr style=\"text-align: right;\">\n",
       "      <th></th>\n",
       "      <th>channel_name</th>\n",
       "      <th>channel_id</th>\n",
       "      <th>channel_url</th>\n",
       "      <th>video_id</th>\n",
       "      <th>title</th>\n",
       "      <th>url</th>\n",
       "      <th>description</th>\n",
       "      <th>duration</th>\n",
       "      <th>keywords</th>\n",
       "      <th>publish_date</th>\n",
       "      <th>relativeDateText</th>\n",
       "      <th>total_length</th>\n",
       "      <th>total_views</th>\n",
       "      <th>video_rating</th>\n",
       "      <th>caption_text_es</th>\n",
       "    </tr>\n",
       "  </thead>\n",
       "  <tbody>\n",
       "    <tr>\n",
       "      <th>0</th>\n",
       "      <td>Bitcoin hoy</td>\n",
       "      <td>UC4DOPLw9NRRBFW4wYjcWxiA</td>\n",
       "      <td>https://www.youtube.com/channel/UC4DOPLw9NRRBF...</td>\n",
       "      <td>9xB3R2pAURY</td>\n",
       "      <td>💥CAN YOU WIN ON DAYS WHEN THE BTC PRICE DOESN'...</td>\n",
       "      <td>https://www.youtube.com/watch?v=9xB3R2pAURY</td>\n",
       "      <td>🖍️My CRECETRADER training FROM SCRATCH: 👉 http...</td>\n",
       "      <td>1120</td>\n",
       "      <td>None</td>\n",
       "      <td>2025-04-17</td>\n",
       "      <td>1 hour ago</td>\n",
       "      <td>0</td>\n",
       "      <td>0</td>\n",
       "      <td>0</td>\n",
       "      <td>saludos cordiales vamos a hacer una actualizac...</td>\n",
       "    </tr>\n",
       "    <tr>\n",
       "      <th>1</th>\n",
       "      <td>USACRYPTONOTICIAS</td>\n",
       "      <td>UCY8AYdix1el08AEFzzwS3Yg</td>\n",
       "      <td>https://www.youtube.com/channel/UCY8AYdix1el08...</td>\n",
       "      <td>aZ6Bb2aiLk0</td>\n",
       "      <td>TERMINÓ PATRÓN de CAÍDA en GRÁFICO  de 4 HORAS...</td>\n",
       "      <td>https://www.youtube.com/watch?v=aZ6Bb2aiLk0</td>\n",
       "      <td>🌺🌺🌺    ENLACE BITUNIX NO VPN NO KYC\\nhttps://w...</td>\n",
       "      <td>3910</td>\n",
       "      <td>None</td>\n",
       "      <td>2025-04-17</td>\n",
       "      <td>Streamed 5 hours ago</td>\n",
       "      <td>0</td>\n",
       "      <td>0</td>\n",
       "      <td>0</td>\n",
       "      <td>vamos hola Pablo Masaclia vamos Bitcoin vamos ...</td>\n",
       "    </tr>\n",
       "  </tbody>\n",
       "</table>\n",
       "</div>"
      ],
      "text/plain": [
       "        channel_name                channel_id  \\\n",
       "0        Bitcoin hoy  UC4DOPLw9NRRBFW4wYjcWxiA   \n",
       "1  USACRYPTONOTICIAS  UCY8AYdix1el08AEFzzwS3Yg   \n",
       "\n",
       "                                         channel_url     video_id  \\\n",
       "0  https://www.youtube.com/channel/UC4DOPLw9NRRBF...  9xB3R2pAURY   \n",
       "1  https://www.youtube.com/channel/UCY8AYdix1el08...  aZ6Bb2aiLk0   \n",
       "\n",
       "                                               title  \\\n",
       "0  💥CAN YOU WIN ON DAYS WHEN THE BTC PRICE DOESN'...   \n",
       "1  TERMINÓ PATRÓN de CAÍDA en GRÁFICO  de 4 HORAS...   \n",
       "\n",
       "                                           url  \\\n",
       "0  https://www.youtube.com/watch?v=9xB3R2pAURY   \n",
       "1  https://www.youtube.com/watch?v=aZ6Bb2aiLk0   \n",
       "\n",
       "                                         description  duration keywords  \\\n",
       "0  🖍️My CRECETRADER training FROM SCRATCH: 👉 http...      1120     None   \n",
       "1  🌺🌺🌺    ENLACE BITUNIX NO VPN NO KYC\\nhttps://w...      3910     None   \n",
       "\n",
       "  publish_date      relativeDateText  total_length  total_views  video_rating  \\\n",
       "0   2025-04-17            1 hour ago             0            0             0   \n",
       "1   2025-04-17  Streamed 5 hours ago             0            0             0   \n",
       "\n",
       "                                     caption_text_es  \n",
       "0  saludos cordiales vamos a hacer una actualizac...  \n",
       "1  vamos hola Pablo Masaclia vamos Bitcoin vamos ...  "
      ]
     },
     "execution_count": 11,
     "metadata": {},
     "output_type": "execute_result"
    }
   ],
   "source": [
    "df_last_hour.head()"
   ]
  }
 ],
 "metadata": {
  "kernelspec": {
   "display_name": ".venv",
   "language": "python",
   "name": "python3"
  },
  "language_info": {
   "codemirror_mode": {
    "name": "ipython",
    "version": 3
   },
   "file_extension": ".py",
   "mimetype": "text/x-python",
   "name": "python",
   "nbconvert_exporter": "python",
   "pygments_lexer": "ipython3",
   "version": "3.10.14"
  }
 },
 "nbformat": 4,
 "nbformat_minor": 2
}
